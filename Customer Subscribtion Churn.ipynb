{
 "cells": [
  {
   "cell_type": "markdown",
   "id": "a7031ec2fa3b285b",
   "metadata": {
    "panel-layout": {
     "height": 139.86000061035156,
     "visible": true,
     "width": 100
    }
   },
   "source": [
    "# Customer Churn Prediction for a Telecom Provider\n",
    "__Core Problem :__\n",
    "\n",
    "\"The central challenge is to minimize customer churn and its associated revenue loss. We must develop a system to proactively flag high-risk customers, empowering our retention teams to intervene with timely and effective strategies.\"\n"
   ]
  },
  {
   "cell_type": "markdown",
   "id": "226a39bf30b76f15",
   "metadata": {
    "panel-layout": {
     "height": 50.82999801635742,
     "visible": true,
     "width": 100
    }
   },
   "source": [
    "## 01-Setup and Initial Exploration"
   ]
  },
  {
   "cell_type": "code",
   "execution_count": 23,
   "id": "309a4250-36cd-4798-bc1c-0cb9a5ce15c3",
   "metadata": {},
   "outputs": [
    {
     "name": "stdout",
     "output_type": "stream",
     "text": [
      "Defaulting to user installation because normal site-packages is not writeable\n",
      "Requirement already satisfied: pandas in c:\\programdata\\anaconda3\\lib\\site-packages (2.2.2)\n",
      "Requirement already satisfied: numpy in c:\\programdata\\anaconda3\\lib\\site-packages (1.26.4)\n",
      "Requirement already satisfied: seaborn in c:\\programdata\\anaconda3\\lib\\site-packages (0.13.2)\n",
      "Requirement already satisfied: matplotlib in c:\\programdata\\anaconda3\\lib\\site-packages (3.9.2)\n",
      "Requirement already satisfied: scikit-learn in c:\\programdata\\anaconda3\\lib\\site-packages (1.5.1)\n",
      "Requirement already satisfied: xgboost in c:\\users\\jhamidi\\appdata\\roaming\\python\\python312\\site-packages (3.0.4)\n",
      "Requirement already satisfied: python-dateutil>=2.8.2 in c:\\programdata\\anaconda3\\lib\\site-packages (from pandas) (2.9.0.post0)\n",
      "Requirement already satisfied: pytz>=2020.1 in c:\\programdata\\anaconda3\\lib\\site-packages (from pandas) (2024.1)\n",
      "Requirement already satisfied: tzdata>=2022.7 in c:\\programdata\\anaconda3\\lib\\site-packages (from pandas) (2023.3)\n",
      "Requirement already satisfied: contourpy>=1.0.1 in c:\\programdata\\anaconda3\\lib\\site-packages (from matplotlib) (1.2.0)\n",
      "Requirement already satisfied: cycler>=0.10 in c:\\programdata\\anaconda3\\lib\\site-packages (from matplotlib) (0.11.0)\n",
      "Requirement already satisfied: fonttools>=4.22.0 in c:\\programdata\\anaconda3\\lib\\site-packages (from matplotlib) (4.51.0)\n",
      "Requirement already satisfied: kiwisolver>=1.3.1 in c:\\programdata\\anaconda3\\lib\\site-packages (from matplotlib) (1.4.4)\n",
      "Requirement already satisfied: packaging>=20.0 in c:\\programdata\\anaconda3\\lib\\site-packages (from matplotlib) (24.1)\n",
      "Requirement already satisfied: pillow>=8 in c:\\programdata\\anaconda3\\lib\\site-packages (from matplotlib) (10.4.0)\n",
      "Requirement already satisfied: pyparsing>=2.3.1 in c:\\programdata\\anaconda3\\lib\\site-packages (from matplotlib) (3.1.2)\n",
      "Requirement already satisfied: scipy>=1.6.0 in c:\\programdata\\anaconda3\\lib\\site-packages (from scikit-learn) (1.13.1)\n",
      "Requirement already satisfied: joblib>=1.2.0 in c:\\programdata\\anaconda3\\lib\\site-packages (from scikit-learn) (1.4.2)\n",
      "Requirement already satisfied: threadpoolctl>=3.1.0 in c:\\programdata\\anaconda3\\lib\\site-packages (from scikit-learn) (3.5.0)\n",
      "Requirement already satisfied: six>=1.5 in c:\\programdata\\anaconda3\\lib\\site-packages (from python-dateutil>=2.8.2->pandas) (1.16.0)\n",
      "Defaulting to user installation because normal site-packages is not writeable\n",
      "Collecting lightgbm\n",
      "  Downloading lightgbm-4.6.0-py3-none-win_amd64.whl.metadata (17 kB)\n",
      "Collecting catboost\n",
      "  Downloading catboost-1.2.8-cp312-cp312-win_amd64.whl.metadata (1.5 kB)\n",
      "Requirement already satisfied: numpy>=1.17.0 in c:\\programdata\\anaconda3\\lib\\site-packages (from lightgbm) (1.26.4)\n",
      "Requirement already satisfied: scipy in c:\\programdata\\anaconda3\\lib\\site-packages (from lightgbm) (1.13.1)\n",
      "Collecting graphviz (from catboost)\n",
      "  Downloading graphviz-0.21-py3-none-any.whl.metadata (12 kB)\n",
      "Requirement already satisfied: matplotlib in c:\\programdata\\anaconda3\\lib\\site-packages (from catboost) (3.9.2)\n",
      "Requirement already satisfied: pandas>=0.24 in c:\\programdata\\anaconda3\\lib\\site-packages (from catboost) (2.2.2)\n",
      "Requirement already satisfied: plotly in c:\\programdata\\anaconda3\\lib\\site-packages (from catboost) (5.24.1)\n",
      "Requirement already satisfied: six in c:\\programdata\\anaconda3\\lib\\site-packages (from catboost) (1.16.0)\n",
      "Requirement already satisfied: python-dateutil>=2.8.2 in c:\\programdata\\anaconda3\\lib\\site-packages (from pandas>=0.24->catboost) (2.9.0.post0)\n",
      "Requirement already satisfied: pytz>=2020.1 in c:\\programdata\\anaconda3\\lib\\site-packages (from pandas>=0.24->catboost) (2024.1)\n",
      "Requirement already satisfied: tzdata>=2022.7 in c:\\programdata\\anaconda3\\lib\\site-packages (from pandas>=0.24->catboost) (2023.3)\n",
      "Requirement already satisfied: contourpy>=1.0.1 in c:\\programdata\\anaconda3\\lib\\site-packages (from matplotlib->catboost) (1.2.0)\n",
      "Requirement already satisfied: cycler>=0.10 in c:\\programdata\\anaconda3\\lib\\site-packages (from matplotlib->catboost) (0.11.0)\n",
      "Requirement already satisfied: fonttools>=4.22.0 in c:\\programdata\\anaconda3\\lib\\site-packages (from matplotlib->catboost) (4.51.0)\n",
      "Requirement already satisfied: kiwisolver>=1.3.1 in c:\\programdata\\anaconda3\\lib\\site-packages (from matplotlib->catboost) (1.4.4)\n",
      "Requirement already satisfied: packaging>=20.0 in c:\\programdata\\anaconda3\\lib\\site-packages (from matplotlib->catboost) (24.1)\n",
      "Requirement already satisfied: pillow>=8 in c:\\programdata\\anaconda3\\lib\\site-packages (from matplotlib->catboost) (10.4.0)\n",
      "Requirement already satisfied: pyparsing>=2.3.1 in c:\\programdata\\anaconda3\\lib\\site-packages (from matplotlib->catboost) (3.1.2)\n",
      "Requirement already satisfied: tenacity>=6.2.0 in c:\\programdata\\anaconda3\\lib\\site-packages (from plotly->catboost) (8.2.3)\n",
      "Downloading lightgbm-4.6.0-py3-none-win_amd64.whl (1.5 MB)\n",
      "   ---------------------------------------- 0.0/1.5 MB ? eta -:--:--\n",
      "   ---------------------------------------- 1.5/1.5 MB 10.8 MB/s eta 0:00:00\n",
      "Downloading catboost-1.2.8-cp312-cp312-win_amd64.whl (102.4 MB)\n",
      "   ---------------------------------------- 0.0/102.4 MB ? eta -:--:--\n",
      "   - -------------------------------------- 3.9/102.4 MB 18.1 MB/s eta 0:00:06\n",
      "   --- ------------------------------------ 8.4/102.4 MB 19.3 MB/s eta 0:00:05\n",
      "   ----- ---------------------------------- 12.8/102.4 MB 20.1 MB/s eta 0:00:05\n",
      "   ------ --------------------------------- 16.3/102.4 MB 18.9 MB/s eta 0:00:05\n",
      "   -------- ------------------------------- 21.5/102.4 MB 20.3 MB/s eta 0:00:04\n",
      "   ---------- ----------------------------- 26.5/102.4 MB 21.0 MB/s eta 0:00:04\n",
      "   ------------ --------------------------- 32.2/102.4 MB 21.8 MB/s eta 0:00:04\n",
      "   -------------- ------------------------- 37.7/102.4 MB 22.2 MB/s eta 0:00:03\n",
      "   ---------------- ----------------------- 42.7/102.4 MB 22.5 MB/s eta 0:00:03\n",
      "   ------------------ --------------------- 48.2/102.4 MB 23.1 MB/s eta 0:00:03\n",
      "   --------------------- ------------------ 54.3/102.4 MB 23.5 MB/s eta 0:00:03\n",
      "   ---------------------- ----------------- 58.5/102.4 MB 23.4 MB/s eta 0:00:02\n",
      "   ------------------------ --------------- 63.4/102.4 MB 23.4 MB/s eta 0:00:02\n",
      "   -------------------------- ------------- 68.7/102.4 MB 23.5 MB/s eta 0:00:02\n",
      "   ---------------------------- ----------- 73.9/102.4 MB 23.6 MB/s eta 0:00:02\n",
      "   ------------------------------ --------- 77.6/102.4 MB 23.1 MB/s eta 0:00:02\n",
      "   ------------------------------- -------- 79.7/102.4 MB 22.6 MB/s eta 0:00:02\n",
      "   -------------------------------- ------- 84.1/102.4 MB 22.5 MB/s eta 0:00:01\n",
      "   ----------------------------------- ---- 90.2/102.4 MB 22.7 MB/s eta 0:00:01\n",
      "   ------------------------------------- -- 94.9/102.4 MB 22.8 MB/s eta 0:00:01\n",
      "   ---------------------------------------  99.9/102.4 MB 22.9 MB/s eta 0:00:01\n",
      "   --------------------------------------  102.2/102.4 MB 22.9 MB/s eta 0:00:01\n",
      "   --------------------------------------  102.2/102.4 MB 22.9 MB/s eta 0:00:01\n",
      "   --------------------------------------  102.2/102.4 MB 22.9 MB/s eta 0:00:01\n",
      "   --------------------------------------  102.2/102.4 MB 22.9 MB/s eta 0:00:01\n",
      "   --------------------------------------  102.2/102.4 MB 22.9 MB/s eta 0:00:01\n",
      "   --------------------------------------  102.2/102.4 MB 22.9 MB/s eta 0:00:01\n",
      "   --------------------------------------  102.2/102.4 MB 22.9 MB/s eta 0:00:01\n",
      "   --------------------------------------  102.2/102.4 MB 22.9 MB/s eta 0:00:01\n",
      "   --------------------------------------  102.2/102.4 MB 22.9 MB/s eta 0:00:01\n",
      "   --------------------------------------  102.2/102.4 MB 22.9 MB/s eta 0:00:01\n",
      "   --------------------------------------  102.2/102.4 MB 22.9 MB/s eta 0:00:01\n",
      "   --------------------------------------- 102.4/102.4 MB 15.0 MB/s eta 0:00:00\n",
      "Downloading graphviz-0.21-py3-none-any.whl (47 kB)\n",
      "Installing collected packages: graphviz, lightgbm, catboost\n",
      "Successfully installed catboost-1.2.8 graphviz-0.21 lightgbm-4.6.0\n"
     ]
    }
   ],
   "source": [
    "!pip install pandas numpy seaborn matplotlib scikit-learn xgboost\n",
    "!pip install lightgbm catboost"
   ]
  },
  {
   "cell_type": "code",
   "execution_count": 42,
   "id": "b56e70b92798c61f",
   "metadata": {
    "ExecuteTime": {
     "end_time": "2025-08-15T17:00:00.896209Z",
     "start_time": "2025-08-15T17:00:00.042767Z"
    },
    "panel-layout": {
     "height": 300.8800048828125,
     "visible": true,
     "width": 100
    }
   },
   "outputs": [
    {
     "data": {
      "text/html": [
       "<div>\n",
       "<style scoped>\n",
       "    .dataframe tbody tr th:only-of-type {\n",
       "        vertical-align: middle;\n",
       "    }\n",
       "\n",
       "    .dataframe tbody tr th {\n",
       "        vertical-align: top;\n",
       "    }\n",
       "\n",
       "    .dataframe thead th {\n",
       "        text-align: right;\n",
       "    }\n",
       "</style>\n",
       "<table border=\"1\" class=\"dataframe\">\n",
       "  <thead>\n",
       "    <tr style=\"text-align: right;\">\n",
       "      <th></th>\n",
       "      <th>customerID</th>\n",
       "      <th>gender</th>\n",
       "      <th>SeniorCitizen</th>\n",
       "      <th>Partner</th>\n",
       "      <th>Dependents</th>\n",
       "      <th>tenure</th>\n",
       "      <th>PhoneService</th>\n",
       "      <th>MultipleLines</th>\n",
       "      <th>InternetService</th>\n",
       "      <th>OnlineSecurity</th>\n",
       "      <th>...</th>\n",
       "      <th>DeviceProtection</th>\n",
       "      <th>TechSupport</th>\n",
       "      <th>StreamingTV</th>\n",
       "      <th>StreamingMovies</th>\n",
       "      <th>Contract</th>\n",
       "      <th>PaperlessBilling</th>\n",
       "      <th>PaymentMethod</th>\n",
       "      <th>MonthlyCharges</th>\n",
       "      <th>TotalCharges</th>\n",
       "      <th>Churn</th>\n",
       "    </tr>\n",
       "  </thead>\n",
       "  <tbody>\n",
       "    <tr>\n",
       "      <th>0</th>\n",
       "      <td>7590-VHVEG</td>\n",
       "      <td>Female</td>\n",
       "      <td>0</td>\n",
       "      <td>Yes</td>\n",
       "      <td>No</td>\n",
       "      <td>1</td>\n",
       "      <td>No</td>\n",
       "      <td>No phone service</td>\n",
       "      <td>DSL</td>\n",
       "      <td>No</td>\n",
       "      <td>...</td>\n",
       "      <td>No</td>\n",
       "      <td>No</td>\n",
       "      <td>No</td>\n",
       "      <td>No</td>\n",
       "      <td>Month-to-month</td>\n",
       "      <td>Yes</td>\n",
       "      <td>Electronic check</td>\n",
       "      <td>29.85</td>\n",
       "      <td>29.85</td>\n",
       "      <td>No</td>\n",
       "    </tr>\n",
       "    <tr>\n",
       "      <th>1</th>\n",
       "      <td>5575-GNVDE</td>\n",
       "      <td>Male</td>\n",
       "      <td>0</td>\n",
       "      <td>No</td>\n",
       "      <td>No</td>\n",
       "      <td>34</td>\n",
       "      <td>Yes</td>\n",
       "      <td>No</td>\n",
       "      <td>DSL</td>\n",
       "      <td>Yes</td>\n",
       "      <td>...</td>\n",
       "      <td>Yes</td>\n",
       "      <td>No</td>\n",
       "      <td>No</td>\n",
       "      <td>No</td>\n",
       "      <td>One year</td>\n",
       "      <td>No</td>\n",
       "      <td>Mailed check</td>\n",
       "      <td>56.95</td>\n",
       "      <td>1889.5</td>\n",
       "      <td>No</td>\n",
       "    </tr>\n",
       "    <tr>\n",
       "      <th>2</th>\n",
       "      <td>3668-QPYBK</td>\n",
       "      <td>Male</td>\n",
       "      <td>0</td>\n",
       "      <td>No</td>\n",
       "      <td>No</td>\n",
       "      <td>2</td>\n",
       "      <td>Yes</td>\n",
       "      <td>No</td>\n",
       "      <td>DSL</td>\n",
       "      <td>Yes</td>\n",
       "      <td>...</td>\n",
       "      <td>No</td>\n",
       "      <td>No</td>\n",
       "      <td>No</td>\n",
       "      <td>No</td>\n",
       "      <td>Month-to-month</td>\n",
       "      <td>Yes</td>\n",
       "      <td>Mailed check</td>\n",
       "      <td>53.85</td>\n",
       "      <td>108.15</td>\n",
       "      <td>Yes</td>\n",
       "    </tr>\n",
       "    <tr>\n",
       "      <th>3</th>\n",
       "      <td>7795-CFOCW</td>\n",
       "      <td>Male</td>\n",
       "      <td>0</td>\n",
       "      <td>No</td>\n",
       "      <td>No</td>\n",
       "      <td>45</td>\n",
       "      <td>No</td>\n",
       "      <td>No phone service</td>\n",
       "      <td>DSL</td>\n",
       "      <td>Yes</td>\n",
       "      <td>...</td>\n",
       "      <td>Yes</td>\n",
       "      <td>Yes</td>\n",
       "      <td>No</td>\n",
       "      <td>No</td>\n",
       "      <td>One year</td>\n",
       "      <td>No</td>\n",
       "      <td>Bank transfer (automatic)</td>\n",
       "      <td>42.30</td>\n",
       "      <td>1840.75</td>\n",
       "      <td>No</td>\n",
       "    </tr>\n",
       "    <tr>\n",
       "      <th>4</th>\n",
       "      <td>9237-HQITU</td>\n",
       "      <td>Female</td>\n",
       "      <td>0</td>\n",
       "      <td>No</td>\n",
       "      <td>No</td>\n",
       "      <td>2</td>\n",
       "      <td>Yes</td>\n",
       "      <td>No</td>\n",
       "      <td>Fiber optic</td>\n",
       "      <td>No</td>\n",
       "      <td>...</td>\n",
       "      <td>No</td>\n",
       "      <td>No</td>\n",
       "      <td>No</td>\n",
       "      <td>No</td>\n",
       "      <td>Month-to-month</td>\n",
       "      <td>Yes</td>\n",
       "      <td>Electronic check</td>\n",
       "      <td>70.70</td>\n",
       "      <td>151.65</td>\n",
       "      <td>Yes</td>\n",
       "    </tr>\n",
       "  </tbody>\n",
       "</table>\n",
       "<p>5 rows × 21 columns</p>\n",
       "</div>"
      ],
      "text/plain": [
       "   customerID  gender  SeniorCitizen Partner Dependents  tenure PhoneService  \\\n",
       "0  7590-VHVEG  Female              0     Yes         No       1           No   \n",
       "1  5575-GNVDE    Male              0      No         No      34          Yes   \n",
       "2  3668-QPYBK    Male              0      No         No       2          Yes   \n",
       "3  7795-CFOCW    Male              0      No         No      45           No   \n",
       "4  9237-HQITU  Female              0      No         No       2          Yes   \n",
       "\n",
       "      MultipleLines InternetService OnlineSecurity  ... DeviceProtection  \\\n",
       "0  No phone service             DSL             No  ...               No   \n",
       "1                No             DSL            Yes  ...              Yes   \n",
       "2                No             DSL            Yes  ...               No   \n",
       "3  No phone service             DSL            Yes  ...              Yes   \n",
       "4                No     Fiber optic             No  ...               No   \n",
       "\n",
       "  TechSupport StreamingTV StreamingMovies        Contract PaperlessBilling  \\\n",
       "0          No          No              No  Month-to-month              Yes   \n",
       "1          No          No              No        One year               No   \n",
       "2          No          No              No  Month-to-month              Yes   \n",
       "3         Yes          No              No        One year               No   \n",
       "4          No          No              No  Month-to-month              Yes   \n",
       "\n",
       "               PaymentMethod MonthlyCharges  TotalCharges Churn  \n",
       "0           Electronic check          29.85         29.85    No  \n",
       "1               Mailed check          56.95        1889.5    No  \n",
       "2               Mailed check          53.85        108.15   Yes  \n",
       "3  Bank transfer (automatic)          42.30       1840.75    No  \n",
       "4           Electronic check          70.70        151.65   Yes  \n",
       "\n",
       "[5 rows x 21 columns]"
      ]
     },
     "execution_count": 42,
     "metadata": {},
     "output_type": "execute_result"
    }
   ],
   "source": [
    "# Import necessary Libraries\n",
    "import pandas as pd\n",
    "import numpy as np\n",
    "import seaborn as sns\n",
    "import matplotlib.pyplot as plt\n",
    "from sklearn.preprocessing import StandardScaler\n",
    "from sklearn.model_selection import train_test_split\n",
    "from sklearn.linear_model import LinearRegression, LogisticRegression\n",
    "from sklearn.ensemble import RandomForestClassifier\n",
    "from xgboost import XGBClassifier\n",
    "from lightgbm import LGBMClassifier\n",
    "from catboost import CatBoostClassifier\n",
    "from sklearn.svm import SVC\n",
    "from sklearn.model_selection import GridSearchCV\n",
    "from sklearn.metrics import f1_score\n",
    "from sklearn.metrics import recall_score\n",
    "from sklearn.metrics import classification_report , confusion_matrix\n",
    "\n",
    "\n",
    "# Loading the Dataset\n",
    "raw_url = \"https://raw.githubusercontent.com/Javadhamidi99/Customer-Churn-Prediction-for-a-Telecome-Company--Business-Marketing/refs/heads/main/Data/WA_Fn-UseC_-Telco-Customer-Churn.csv\"\n",
    "df = pd.read_csv(raw_url)\n",
    "\n",
    "# Seeing the First Rows of the Dataset\n",
    "df.head()"
   ]
  },
  {
   "cell_type": "code",
   "execution_count": 6,
   "id": "7faee54b7a2d2145",
   "metadata": {
    "ExecuteTime": {
     "end_time": "2025-08-15T17:00:00.997142Z",
     "start_time": "2025-08-15T17:00:00.977185Z"
    },
    "panel-layout": {
     "height": 251.1199951171875,
     "visible": true,
     "width": 100
    }
   },
   "outputs": [
    {
     "name": "stdout",
     "output_type": "stream",
     "text": [
      "<class 'pandas.core.frame.DataFrame'>\n",
      "RangeIndex: 7043 entries, 0 to 7042\n",
      "Data columns (total 21 columns):\n",
      " #   Column            Non-Null Count  Dtype  \n",
      "---  ------            --------------  -----  \n",
      " 0   customerID        7043 non-null   object \n",
      " 1   gender            7043 non-null   object \n",
      " 2   SeniorCitizen     7043 non-null   int64  \n",
      " 3   Partner           7043 non-null   object \n",
      " 4   Dependents        7043 non-null   object \n",
      " 5   tenure            7043 non-null   int64  \n",
      " 6   PhoneService      7043 non-null   object \n",
      " 7   MultipleLines     7043 non-null   object \n",
      " 8   InternetService   7043 non-null   object \n",
      " 9   OnlineSecurity    7043 non-null   object \n",
      " 10  OnlineBackup      7043 non-null   object \n",
      " 11  DeviceProtection  7043 non-null   object \n",
      " 12  TechSupport       7043 non-null   object \n",
      " 13  StreamingTV       7043 non-null   object \n",
      " 14  StreamingMovies   7043 non-null   object \n",
      " 15  Contract          7043 non-null   object \n",
      " 16  PaperlessBilling  7043 non-null   object \n",
      " 17  PaymentMethod     7043 non-null   object \n",
      " 18  MonthlyCharges    7043 non-null   float64\n",
      " 19  TotalCharges      7043 non-null   object \n",
      " 20  Churn             7043 non-null   object \n",
      "dtypes: float64(1), int64(2), object(18)\n",
      "memory usage: 1.1+ MB\n"
     ]
    },
    {
     "data": {
      "text/html": [
       "<div>\n",
       "<style scoped>\n",
       "    .dataframe tbody tr th:only-of-type {\n",
       "        vertical-align: middle;\n",
       "    }\n",
       "\n",
       "    .dataframe tbody tr th {\n",
       "        vertical-align: top;\n",
       "    }\n",
       "\n",
       "    .dataframe thead th {\n",
       "        text-align: right;\n",
       "    }\n",
       "</style>\n",
       "<table border=\"1\" class=\"dataframe\">\n",
       "  <thead>\n",
       "    <tr style=\"text-align: right;\">\n",
       "      <th></th>\n",
       "      <th>SeniorCitizen</th>\n",
       "      <th>tenure</th>\n",
       "      <th>MonthlyCharges</th>\n",
       "    </tr>\n",
       "  </thead>\n",
       "  <tbody>\n",
       "    <tr>\n",
       "      <th>count</th>\n",
       "      <td>7043.000000</td>\n",
       "      <td>7043.000000</td>\n",
       "      <td>7043.000000</td>\n",
       "    </tr>\n",
       "    <tr>\n",
       "      <th>mean</th>\n",
       "      <td>0.162147</td>\n",
       "      <td>32.371149</td>\n",
       "      <td>64.761692</td>\n",
       "    </tr>\n",
       "    <tr>\n",
       "      <th>std</th>\n",
       "      <td>0.368612</td>\n",
       "      <td>24.559481</td>\n",
       "      <td>30.090047</td>\n",
       "    </tr>\n",
       "    <tr>\n",
       "      <th>min</th>\n",
       "      <td>0.000000</td>\n",
       "      <td>0.000000</td>\n",
       "      <td>18.250000</td>\n",
       "    </tr>\n",
       "    <tr>\n",
       "      <th>25%</th>\n",
       "      <td>0.000000</td>\n",
       "      <td>9.000000</td>\n",
       "      <td>35.500000</td>\n",
       "    </tr>\n",
       "    <tr>\n",
       "      <th>50%</th>\n",
       "      <td>0.000000</td>\n",
       "      <td>29.000000</td>\n",
       "      <td>70.350000</td>\n",
       "    </tr>\n",
       "    <tr>\n",
       "      <th>75%</th>\n",
       "      <td>0.000000</td>\n",
       "      <td>55.000000</td>\n",
       "      <td>89.850000</td>\n",
       "    </tr>\n",
       "    <tr>\n",
       "      <th>max</th>\n",
       "      <td>1.000000</td>\n",
       "      <td>72.000000</td>\n",
       "      <td>118.750000</td>\n",
       "    </tr>\n",
       "  </tbody>\n",
       "</table>\n",
       "</div>"
      ],
      "text/plain": [
       "       SeniorCitizen       tenure  MonthlyCharges\n",
       "count    7043.000000  7043.000000     7043.000000\n",
       "mean        0.162147    32.371149       64.761692\n",
       "std         0.368612    24.559481       30.090047\n",
       "min         0.000000     0.000000       18.250000\n",
       "25%         0.000000     9.000000       35.500000\n",
       "50%         0.000000    29.000000       70.350000\n",
       "75%         0.000000    55.000000       89.850000\n",
       "max         1.000000    72.000000      118.750000"
      ]
     },
     "execution_count": 6,
     "metadata": {},
     "output_type": "execute_result"
    }
   ],
   "source": [
    "# Getting a Summary from our Dataset\n",
    "df.info()\n",
    "\n",
    "# Getting a statistical Summary of our Dataset\n",
    "df.describe()"
   ]
  },
  {
   "cell_type": "markdown",
   "id": "550e41c87378f767",
   "metadata": {
    "panel-layout": {
     "height": 84.40999603271484,
     "visible": true,
     "width": 100
    }
   },
   "source": [
    "## 01-01 Small Corrections in our Data Set\n",
    "Fixing the Data Type for TotalCharges from object to float 64"
   ]
  },
  {
   "cell_type": "code",
   "execution_count": 7,
   "id": "1d95e8dfa2401337",
   "metadata": {
    "ExecuteTime": {
     "end_time": "2025-08-15T17:00:01.246757Z",
     "start_time": "2025-08-15T17:00:01.236504Z"
    }
   },
   "outputs": [],
   "source": [
    "# Check to see if we have empty values in our column\n",
    "df['TotalCharges'].value_counts()\n",
    "\n",
    "# Replacing Empty values with 0\n",
    "df['TotalCharges'] = df['TotalCharges'].replace(\" \" , '0')\n",
    "\n",
    "# Changing the type of the column\n",
    "df['TotalCharges'] = df['TotalCharges'].astype('float64')"
   ]
  },
  {
   "cell_type": "markdown",
   "id": "7cef28751341383b",
   "metadata": {
    "panel-layout": {
     "height": 211.84999084472656,
     "visible": true,
     "width": 100
    }
   },
   "source": [
    "# 02-Exploratory Data Analysis (EDA)\n",
    "\"This is the data understanding and feature engineering stage. We act as 'data detectives' to uncover the data's story—what it tells us, its limitations, and how we can best prepare it for our analysis. Our goal is to select the most impactful features and parameters, and to remove or refine any parts of the data that might hinder our progress.\"\n",
    "\n",
    "## 02-01 Analysing the Target Variable (Churn)\n",
    "To check for class imbalance, we count the occurrences of each class within our target variable. This helps us understand if the dataset has an uneven distribution, where one class significantly outnumbers the others."
   ]
  },
  {
   "cell_type": "code",
   "execution_count": 8,
   "id": "94ba6d39794e1d44",
   "metadata": {
    "ExecuteTime": {
     "end_time": "2025-08-15T17:00:13.718781Z",
     "start_time": "2025-08-15T17:00:13.469887Z"
    },
    "panel-layout": {
     "height": 730,
     "visible": true,
     "width": 100
    }
   },
   "outputs": [
    {
     "data": {
      "image/png": "[encoded data removed]",
      "text/plain": [
       "<Figure size 500x500 with 1 Axes>"
      ]
     },
     "metadata": {},
     "output_type": "display_data"
    },
    {
     "name": "stdout",
     "output_type": "stream",
     "text": [
      "Churn\n",
      "No     0.73463\n",
      "Yes    0.26537\n",
      "Name: proportion, dtype: float64\n"
     ]
    }
   ],
   "source": [
    "# Creating a count plot for Churn parameter\n",
    "plt.figure(figsize = (5,5))\n",
    "sns.countplot( x = 'Churn' , data = df)\n",
    "plt.title('Churn Distribution')\n",
    "plt.show()\n",
    "\n",
    "# Getting the Actual percentage\n",
    "print(df['Churn'].value_counts(normalize = True))"
   ]
  },
  {
   "cell_type": "markdown",
   "id": "611291b6aa8bb8b",
   "metadata": {
    "panel-layout": {
     "height": 84.40999603271484,
     "visible": true,
     "width": 100
    }
   },
   "source": [
    "## 02-02 Analyzing Features against Churn\n",
    "Let's analyze if the contract type has any correlation with our churn rate."
   ]
  },
  {
   "cell_type": "code",
   "execution_count": 9,
   "id": "6f7f0002daf6f705",
   "metadata": {
    "ExecuteTime": {
     "end_time": "2025-08-15T17:00:16.154494Z",
     "start_time": "2025-08-15T17:00:16.048835Z"
    },
    "panel-layout": {
     "height": 730,
     "visible": true,
     "width": 100
    }
   },
   "outputs": [
    {
     "data": {
      "image/png": "[encoded data removed]",
      "text/plain": [
       "<Figure size 500x500 with 1 Axes>"
      ]
     },
     "metadata": {},
     "output_type": "display_data"
    }
   ],
   "source": [
    "# 01 - Churn by Contract Type\n",
    "plt.figure(figsize = (5,5))\n",
    "sns.countplot( x = 'Contract' ,hue='Churn' , data = df)\n",
    "plt.title('Churn Rate by Contract Type')\n",
    "plt.show()"
   ]
  },
  {
   "cell_type": "markdown",
   "id": "20b001f6ea06016d",
   "metadata": {
    "panel-layout": {
     "height": 68.27999877929688,
     "visible": true,
     "width": 100
    }
   },
   "source": [
    "From the visualization, a clear relationship between contract type and churn rate is evident. We can observe that as the contract length increases, the churn rate significantly decreases. Customers on a month-to-month contract have the highest churn rate, while those on a two-year contract have the lowest."
   ]
  },
  {
   "cell_type": "code",
   "execution_count": 10,
   "id": "e17b5101df6fdef7",
   "metadata": {
    "ExecuteTime": {
     "end_time": "2025-08-15T17:00:17.608153Z",
     "start_time": "2025-08-15T17:00:17.476359Z"
    },
    "panel-layout": {
     "height": 730,
     "visible": true,
     "width": 100
    }
   },
   "outputs": [
    {
     "data": {
      "image/png": "[encoded data removed]",
      "text/plain": [
       "<Figure size 500x500 with 1 Axes>"
      ]
     },
     "metadata": {},
     "output_type": "display_data"
    }
   ],
   "source": [
    "# 02 - Churn rate by customer tenure\n",
    "# Due to the high number of unique values in tenure , we have to bin this column\n",
    "bins = [0, 3, 6, 12, 24,50, 73]\n",
    "bins_labels = ['1-3' , '3-6', '6-12', '12-24', '24-50', '50-73']\n",
    "df['tenure_group'] = pd.cut(df['tenure'], bins, labels = bins_labels)\n",
    "\n",
    "# Creating the actual plot\n",
    "plt.figure(figsize = (5,5))\n",
    "sns.countplot(x = 'tenure_group' , hue='Churn' , data = df)\n",
    "plt.title('Churn Rate by Customer Tenure')\n",
    "plt.show()"
   ]
  },
  {
   "cell_type": "markdown",
   "id": "ff829bf484a70f54",
   "metadata": {
    "panel-layout": {
     "height": 114.55999755859375,
     "visible": true,
     "width": 100
    }
   },
   "source": [
    "Based on the visualization, it's clear that customer tenure and churn rate are related. Customers in their first 3 months have the highest churn rate. This rate then drops significantly for those in the 3-6 month tenure group.\n",
    "\n",
    "Interestingly, the churn rate appears to gradually increase again as tenure extends beyond the 6-month mark. This unexpected trend warrants further investigation to understand why long-term customers might be increasingly at risk of churning."
   ]
  },
  {
   "cell_type": "markdown",
   "id": "e1bb71f5f2e339b2",
   "metadata": {
    "panel-layout": {
     "height": 110.7199935913086,
     "visible": true,
     "width": 100
    }
   },
   "source": [
    "# 03-Data Preprocessing and Feature Engineering\n",
    "Machine learning models require clean, numerical data. In this step, we'll preprocess the dataset to handle missing values, encode categorical variables, and scale numerical features, transforming it into a format our model can use."
   ]
  },
  {
   "cell_type": "markdown",
   "id": "f99a7abb6157736a",
   "metadata": {
    "panel-layout": {
     "height": 50.82999801635742,
     "visible": true,
     "width": 100
    }
   },
   "source": [
    "## 03-01 Clean Data Types and Handle Missing Values"
   ]
  },
  {
   "cell_type": "code",
   "execution_count": 11,
   "id": "5125c0db57fcf06d",
   "metadata": {
    "ExecuteTime": {
     "end_time": "2025-08-15T17:00:39.810114Z",
     "start_time": "2025-08-15T17:00:39.799498Z"
    },
    "panel-layout": {
     "height": 730,
     "visible": true,
     "width": 100
    }
   },
   "outputs": [],
   "source": [
    "# Drop the few rows with missing values\n",
    "df.dropna(inplace=True)"
   ]
  },
  {
   "cell_type": "markdown",
   "id": "77f039fb72bb8ba6",
   "metadata": {
    "panel-layout": {
     "height": 101.54999542236328,
     "visible": true,
     "width": 100
    }
   },
   "source": [
    "## 03-02 Encoding Categorial Variables\n",
    "To prepare our data for machine learning models, which only process numerical data, we must encode our categorical features. This process transforms text-based categories into a numerical format the models can understand."
   ]
  },
  {
   "cell_type": "code",
   "execution_count": 12,
   "id": "971f90f571f36a07",
   "metadata": {
    "ExecuteTime": {
     "end_time": "2025-08-15T17:00:40.662493Z",
     "start_time": "2025-08-15T17:00:40.635583Z"
    },
    "panel-layout": {
     "height": 1001.4400024414062,
     "visible": true,
     "width": 100
    }
   },
   "outputs": [
    {
     "data": {
      "text/html": [
       "<div>\n",
       "<style scoped>\n",
       "    .dataframe tbody tr th:only-of-type {\n",
       "        vertical-align: middle;\n",
       "    }\n",
       "\n",
       "    .dataframe tbody tr th {\n",
       "        vertical-align: top;\n",
       "    }\n",
       "\n",
       "    .dataframe thead th {\n",
       "        text-align: right;\n",
       "    }\n",
       "</style>\n",
       "<table border=\"1\" class=\"dataframe\">\n",
       "  <thead>\n",
       "    <tr style=\"text-align: right;\">\n",
       "      <th></th>\n",
       "      <th>customerID</th>\n",
       "      <th>SeniorCitizen</th>\n",
       "      <th>tenure</th>\n",
       "      <th>MonthlyCharges</th>\n",
       "      <th>TotalCharges</th>\n",
       "      <th>Churn</th>\n",
       "      <th>tenure_group</th>\n",
       "      <th>gender_Male</th>\n",
       "      <th>Partner_Yes</th>\n",
       "      <th>Dependents_Yes</th>\n",
       "      <th>...</th>\n",
       "      <th>StreamingTV_No internet service</th>\n",
       "      <th>StreamingTV_Yes</th>\n",
       "      <th>StreamingMovies_No internet service</th>\n",
       "      <th>StreamingMovies_Yes</th>\n",
       "      <th>Contract_One year</th>\n",
       "      <th>Contract_Two year</th>\n",
       "      <th>PaperlessBilling_Yes</th>\n",
       "      <th>PaymentMethod_Credit card (automatic)</th>\n",
       "      <th>PaymentMethod_Electronic check</th>\n",
       "      <th>PaymentMethod_Mailed check</th>\n",
       "    </tr>\n",
       "  </thead>\n",
       "  <tbody>\n",
       "    <tr>\n",
       "      <th>0</th>\n",
       "      <td>7590-VHVEG</td>\n",
       "      <td>0</td>\n",
       "      <td>1</td>\n",
       "      <td>29.85</td>\n",
       "      <td>29.85</td>\n",
       "      <td>0</td>\n",
       "      <td>1-3</td>\n",
       "      <td>False</td>\n",
       "      <td>True</td>\n",
       "      <td>False</td>\n",
       "      <td>...</td>\n",
       "      <td>False</td>\n",
       "      <td>False</td>\n",
       "      <td>False</td>\n",
       "      <td>False</td>\n",
       "      <td>False</td>\n",
       "      <td>False</td>\n",
       "      <td>True</td>\n",
       "      <td>False</td>\n",
       "      <td>True</td>\n",
       "      <td>False</td>\n",
       "    </tr>\n",
       "    <tr>\n",
       "      <th>1</th>\n",
       "      <td>5575-GNVDE</td>\n",
       "      <td>0</td>\n",
       "      <td>34</td>\n",
       "      <td>56.95</td>\n",
       "      <td>1889.50</td>\n",
       "      <td>0</td>\n",
       "      <td>24-50</td>\n",
       "      <td>True</td>\n",
       "      <td>False</td>\n",
       "      <td>False</td>\n",
       "      <td>...</td>\n",
       "      <td>False</td>\n",
       "      <td>False</td>\n",
       "      <td>False</td>\n",
       "      <td>False</td>\n",
       "      <td>True</td>\n",
       "      <td>False</td>\n",
       "      <td>False</td>\n",
       "      <td>False</td>\n",
       "      <td>False</td>\n",
       "      <td>True</td>\n",
       "    </tr>\n",
       "    <tr>\n",
       "      <th>2</th>\n",
       "      <td>3668-QPYBK</td>\n",
       "      <td>0</td>\n",
       "      <td>2</td>\n",
       "      <td>53.85</td>\n",
       "      <td>108.15</td>\n",
       "      <td>1</td>\n",
       "      <td>1-3</td>\n",
       "      <td>True</td>\n",
       "      <td>False</td>\n",
       "      <td>False</td>\n",
       "      <td>...</td>\n",
       "      <td>False</td>\n",
       "      <td>False</td>\n",
       "      <td>False</td>\n",
       "      <td>False</td>\n",
       "      <td>False</td>\n",
       "      <td>False</td>\n",
       "      <td>True</td>\n",
       "      <td>False</td>\n",
       "      <td>False</td>\n",
       "      <td>True</td>\n",
       "    </tr>\n",
       "    <tr>\n",
       "      <th>3</th>\n",
       "      <td>7795-CFOCW</td>\n",
       "      <td>0</td>\n",
       "      <td>45</td>\n",
       "      <td>42.30</td>\n",
       "      <td>1840.75</td>\n",
       "      <td>0</td>\n",
       "      <td>24-50</td>\n",
       "      <td>True</td>\n",
       "      <td>False</td>\n",
       "      <td>False</td>\n",
       "      <td>...</td>\n",
       "      <td>False</td>\n",
       "      <td>False</td>\n",
       "      <td>False</td>\n",
       "      <td>False</td>\n",
       "      <td>True</td>\n",
       "      <td>False</td>\n",
       "      <td>False</td>\n",
       "      <td>False</td>\n",
       "      <td>False</td>\n",
       "      <td>False</td>\n",
       "    </tr>\n",
       "    <tr>\n",
       "      <th>4</th>\n",
       "      <td>9237-HQITU</td>\n",
       "      <td>0</td>\n",
       "      <td>2</td>\n",
       "      <td>70.70</td>\n",
       "      <td>151.65</td>\n",
       "      <td>1</td>\n",
       "      <td>1-3</td>\n",
       "      <td>False</td>\n",
       "      <td>False</td>\n",
       "      <td>False</td>\n",
       "      <td>...</td>\n",
       "      <td>False</td>\n",
       "      <td>False</td>\n",
       "      <td>False</td>\n",
       "      <td>False</td>\n",
       "      <td>False</td>\n",
       "      <td>False</td>\n",
       "      <td>True</td>\n",
       "      <td>False</td>\n",
       "      <td>True</td>\n",
       "      <td>False</td>\n",
       "    </tr>\n",
       "  </tbody>\n",
       "</table>\n",
       "<p>5 rows × 33 columns</p>\n",
       "</div>"
      ],
      "text/plain": [
       "   customerID  SeniorCitizen  tenure  MonthlyCharges  TotalCharges  Churn  \\\n",
       "0  7590-VHVEG              0       1           29.85         29.85      0   \n",
       "1  5575-GNVDE              0      34           56.95       1889.50      0   \n",
       "2  3668-QPYBK              0       2           53.85        108.15      1   \n",
       "3  7795-CFOCW              0      45           42.30       1840.75      0   \n",
       "4  9237-HQITU              0       2           70.70        151.65      1   \n",
       "\n",
       "  tenure_group  gender_Male  Partner_Yes  Dependents_Yes  ...  \\\n",
       "0          1-3        False         True           False  ...   \n",
       "1        24-50         True        False           False  ...   \n",
       "2          1-3         True        False           False  ...   \n",
       "3        24-50         True        False           False  ...   \n",
       "4          1-3        False        False           False  ...   \n",
       "\n",
       "   StreamingTV_No internet service  StreamingTV_Yes  \\\n",
       "0                            False            False   \n",
       "1                            False            False   \n",
       "2                            False            False   \n",
       "3                            False            False   \n",
       "4                            False            False   \n",
       "\n",
       "   StreamingMovies_No internet service  StreamingMovies_Yes  \\\n",
       "0                                False                False   \n",
       "1                                False                False   \n",
       "2                                False                False   \n",
       "3                                False                False   \n",
       "4                                False                False   \n",
       "\n",
       "   Contract_One year  Contract_Two year  PaperlessBilling_Yes  \\\n",
       "0              False              False                  True   \n",
       "1               True              False                 False   \n",
       "2              False              False                  True   \n",
       "3               True              False                 False   \n",
       "4              False              False                  True   \n",
       "\n",
       "   PaymentMethod_Credit card (automatic)  PaymentMethod_Electronic check  \\\n",
       "0                                  False                            True   \n",
       "1                                  False                           False   \n",
       "2                                  False                           False   \n",
       "3                                  False                           False   \n",
       "4                                  False                            True   \n",
       "\n",
       "   PaymentMethod_Mailed check  \n",
       "0                       False  \n",
       "1                        True  \n",
       "2                        True  \n",
       "3                       False  \n",
       "4                       False  \n",
       "\n",
       "[5 rows x 33 columns]"
      ]
     },
     "execution_count": 12,
     "metadata": {},
     "output_type": "execute_result"
    }
   ],
   "source": [
    "# Encoding the target variable (Churn)\n",
    "df['Churn'] = df['Churn'].map({'Yes': 1, 'No': 0})\n",
    "\n",
    "# Selecting all the other categorial columns\n",
    "categorial_cols =df.select_dtypes(include = 'object').columns\n",
    "\n",
    "# Dropping the Customer ID Column (It is not useful for our model )\n",
    "categorial_cols = categorial_cols.drop('customerID')\n",
    "\n",
    "# Using one-hot coding technique to convert these to numbers\n",
    "df_ml = pd.get_dummies(df, columns= categorial_cols, drop_first = True)\n",
    "\n",
    "df_ml.head()"
   ]
  },
  {
   "cell_type": "markdown",
   "id": "28ef8d98389f7c9d",
   "metadata": {
    "panel-layout": {
     "height": 101.54999542236328,
     "visible": true,
     "width": 100
    }
   },
   "source": [
    "## 03-03 Scaling Numerical Values\n",
    "We scale features like tenure and MonthlyCharges to prevent those with a larger range of values from disproportionately influencing the model's performance. This ensures that each feature contributes equally to the learning process."
   ]
  },
  {
   "cell_type": "code",
   "execution_count": 14,
   "id": "ed2c41c5338f7ae0",
   "metadata": {
    "ExecuteTime": {
     "end_time": "2025-08-15T17:05:01.973963Z",
     "start_time": "2025-08-15T17:05:01.961347Z"
    },
    "panel-layout": {
     "height": 1001.4400024414062,
     "visible": true,
     "width": 100
    }
   },
   "outputs": [
    {
     "data": {
      "text/html": [
       "<div>\n",
       "<style scoped>\n",
       "    .dataframe tbody tr th:only-of-type {\n",
       "        vertical-align: middle;\n",
       "    }\n",
       "\n",
       "    .dataframe tbody tr th {\n",
       "        vertical-align: top;\n",
       "    }\n",
       "\n",
       "    .dataframe thead th {\n",
       "        text-align: right;\n",
       "    }\n",
       "</style>\n",
       "<table border=\"1\" class=\"dataframe\">\n",
       "  <thead>\n",
       "    <tr style=\"text-align: right;\">\n",
       "      <th></th>\n",
       "      <th>customerID</th>\n",
       "      <th>SeniorCitizen</th>\n",
       "      <th>tenure</th>\n",
       "      <th>MonthlyCharges</th>\n",
       "      <th>TotalCharges</th>\n",
       "      <th>Churn</th>\n",
       "      <th>tenure_group</th>\n",
       "      <th>gender_Male</th>\n",
       "      <th>Partner_Yes</th>\n",
       "      <th>Dependents_Yes</th>\n",
       "      <th>...</th>\n",
       "      <th>StreamingTV_No internet service</th>\n",
       "      <th>StreamingTV_Yes</th>\n",
       "      <th>StreamingMovies_No internet service</th>\n",
       "      <th>StreamingMovies_Yes</th>\n",
       "      <th>Contract_One year</th>\n",
       "      <th>Contract_Two year</th>\n",
       "      <th>PaperlessBilling_Yes</th>\n",
       "      <th>PaymentMethod_Credit card (automatic)</th>\n",
       "      <th>PaymentMethod_Electronic check</th>\n",
       "      <th>PaymentMethod_Mailed check</th>\n",
       "    </tr>\n",
       "  </thead>\n",
       "  <tbody>\n",
       "    <tr>\n",
       "      <th>0</th>\n",
       "      <td>7590-VHVEG</td>\n",
       "      <td>-0.440327</td>\n",
       "      <td>-1.280248</td>\n",
       "      <td>-1.161694</td>\n",
       "      <td>-0.994194</td>\n",
       "      <td>0</td>\n",
       "      <td>1-3</td>\n",
       "      <td>False</td>\n",
       "      <td>True</td>\n",
       "      <td>False</td>\n",
       "      <td>...</td>\n",
       "      <td>False</td>\n",
       "      <td>False</td>\n",
       "      <td>False</td>\n",
       "      <td>False</td>\n",
       "      <td>False</td>\n",
       "      <td>False</td>\n",
       "      <td>True</td>\n",
       "      <td>False</td>\n",
       "      <td>True</td>\n",
       "      <td>False</td>\n",
       "    </tr>\n",
       "    <tr>\n",
       "      <th>1</th>\n",
       "      <td>5575-GNVDE</td>\n",
       "      <td>-0.440327</td>\n",
       "      <td>0.064303</td>\n",
       "      <td>-0.260878</td>\n",
       "      <td>-0.173740</td>\n",
       "      <td>0</td>\n",
       "      <td>24-50</td>\n",
       "      <td>True</td>\n",
       "      <td>False</td>\n",
       "      <td>False</td>\n",
       "      <td>...</td>\n",
       "      <td>False</td>\n",
       "      <td>False</td>\n",
       "      <td>False</td>\n",
       "      <td>False</td>\n",
       "      <td>True</td>\n",
       "      <td>False</td>\n",
       "      <td>False</td>\n",
       "      <td>False</td>\n",
       "      <td>False</td>\n",
       "      <td>True</td>\n",
       "    </tr>\n",
       "    <tr>\n",
       "      <th>2</th>\n",
       "      <td>3668-QPYBK</td>\n",
       "      <td>-0.440327</td>\n",
       "      <td>-1.239504</td>\n",
       "      <td>-0.363923</td>\n",
       "      <td>-0.959649</td>\n",
       "      <td>1</td>\n",
       "      <td>1-3</td>\n",
       "      <td>True</td>\n",
       "      <td>False</td>\n",
       "      <td>False</td>\n",
       "      <td>...</td>\n",
       "      <td>False</td>\n",
       "      <td>False</td>\n",
       "      <td>False</td>\n",
       "      <td>False</td>\n",
       "      <td>False</td>\n",
       "      <td>False</td>\n",
       "      <td>True</td>\n",
       "      <td>False</td>\n",
       "      <td>False</td>\n",
       "      <td>True</td>\n",
       "    </tr>\n",
       "    <tr>\n",
       "      <th>3</th>\n",
       "      <td>7795-CFOCW</td>\n",
       "      <td>-0.440327</td>\n",
       "      <td>0.512486</td>\n",
       "      <td>-0.747850</td>\n",
       "      <td>-0.195248</td>\n",
       "      <td>0</td>\n",
       "      <td>24-50</td>\n",
       "      <td>True</td>\n",
       "      <td>False</td>\n",
       "      <td>False</td>\n",
       "      <td>...</td>\n",
       "      <td>False</td>\n",
       "      <td>False</td>\n",
       "      <td>False</td>\n",
       "      <td>False</td>\n",
       "      <td>True</td>\n",
       "      <td>False</td>\n",
       "      <td>False</td>\n",
       "      <td>False</td>\n",
       "      <td>False</td>\n",
       "      <td>False</td>\n",
       "    </tr>\n",
       "    <tr>\n",
       "      <th>4</th>\n",
       "      <td>9237-HQITU</td>\n",
       "      <td>-0.440327</td>\n",
       "      <td>-1.239504</td>\n",
       "      <td>0.196178</td>\n",
       "      <td>-0.940457</td>\n",
       "      <td>1</td>\n",
       "      <td>1-3</td>\n",
       "      <td>False</td>\n",
       "      <td>False</td>\n",
       "      <td>False</td>\n",
       "      <td>...</td>\n",
       "      <td>False</td>\n",
       "      <td>False</td>\n",
       "      <td>False</td>\n",
       "      <td>False</td>\n",
       "      <td>False</td>\n",
       "      <td>False</td>\n",
       "      <td>True</td>\n",
       "      <td>False</td>\n",
       "      <td>True</td>\n",
       "      <td>False</td>\n",
       "    </tr>\n",
       "  </tbody>\n",
       "</table>\n",
       "<p>5 rows × 33 columns</p>\n",
       "</div>"
      ],
      "text/plain": [
       "   customerID  SeniorCitizen    tenure  MonthlyCharges  TotalCharges  Churn  \\\n",
       "0  7590-VHVEG      -0.440327 -1.280248       -1.161694     -0.994194      0   \n",
       "1  5575-GNVDE      -0.440327  0.064303       -0.260878     -0.173740      0   \n",
       "2  3668-QPYBK      -0.440327 -1.239504       -0.363923     -0.959649      1   \n",
       "3  7795-CFOCW      -0.440327  0.512486       -0.747850     -0.195248      0   \n",
       "4  9237-HQITU      -0.440327 -1.239504        0.196178     -0.940457      1   \n",
       "\n",
       "  tenure_group  gender_Male  Partner_Yes  Dependents_Yes  ...  \\\n",
       "0          1-3        False         True           False  ...   \n",
       "1        24-50         True        False           False  ...   \n",
       "2          1-3         True        False           False  ...   \n",
       "3        24-50         True        False           False  ...   \n",
       "4          1-3        False        False           False  ...   \n",
       "\n",
       "   StreamingTV_No internet service  StreamingTV_Yes  \\\n",
       "0                            False            False   \n",
       "1                            False            False   \n",
       "2                            False            False   \n",
       "3                            False            False   \n",
       "4                            False            False   \n",
       "\n",
       "   StreamingMovies_No internet service  StreamingMovies_Yes  \\\n",
       "0                                False                False   \n",
       "1                                False                False   \n",
       "2                                False                False   \n",
       "3                                False                False   \n",
       "4                                False                False   \n",
       "\n",
       "   Contract_One year  Contract_Two year  PaperlessBilling_Yes  \\\n",
       "0              False              False                  True   \n",
       "1               True              False                 False   \n",
       "2              False              False                  True   \n",
       "3               True              False                 False   \n",
       "4              False              False                  True   \n",
       "\n",
       "   PaymentMethod_Credit card (automatic)  PaymentMethod_Electronic check  \\\n",
       "0                                  False                            True   \n",
       "1                                  False                           False   \n",
       "2                                  False                           False   \n",
       "3                                  False                           False   \n",
       "4                                  False                            True   \n",
       "\n",
       "   PaymentMethod_Mailed check  \n",
       "0                       False  \n",
       "1                        True  \n",
       "2                        True  \n",
       "3                       False  \n",
       "4                       False  \n",
       "\n",
       "[5 rows x 33 columns]"
      ]
     },
     "execution_count": 14,
     "metadata": {},
     "output_type": "execute_result"
    }
   ],
   "source": [
    "scaler = StandardScaler()\n",
    "df_ml['Churn'] = df_ml['Churn'].astype('object')\n",
    "numerical_cols = df_ml.select_dtypes(include= ('float64' , 'int64')).columns\n",
    "df_ml[numerical_cols] = scaler.fit_transform(df[numerical_cols])\n",
    "df_ml['Churn'] = df_ml['Churn'].astype('int64')\n",
    "df_ml.head()"
   ]
  },
  {
   "cell_type": "markdown",
   "id": "debed3ca4cbade3f",
   "metadata": {
    "panel-layout": {
     "height": 318.1199951171875,
     "visible": true,
     "width": 100
    }
   },
   "source": [
    "# 04 Model Building and Training\n",
    "Once our data is prepared, we'll proceed with model training and evaluation. This process involves three key steps:\n",
    "\n",
    "1. Data Splitting\n",
    "First, we'll divide the dataset into three subsets: a training set, a validation set, and a test set.  This is crucial for evaluating a model's performance on unseen data and preventing overfitting. The model learns from the training data, is tuned using the validation set, and is then evaluated for final performance on the test set.\n",
    "\n",
    "2. Model Training and Selection\n",
    "Next, we'll train several different models on the training data. This allows us to compare their performance and identify which algorithm is best suited for our specific problem.\n",
    "\n",
    "3. Hyperparameter Tuning\n",
    "Finally, we'll take the best-performing model and fine-tune its hyperparameters. Hyperparameters are external settings that control how a model learns (e.g., the learning rate or the number of trees in a random forest). By optimizing these settings on the validation set, we can maximize the model's predictive accuracy before its final evaluation on the test set."
   ]
  },
  {
   "cell_type": "markdown",
   "id": "75ce47128cfbde3d",
   "metadata": {
    "panel-layout": {
     "height": 101.54999542236328,
     "visible": true,
     "width": 100
    }
   },
   "source": [
    "## 04-01 Splitting the Data into Training , Validation and Test Set\n",
    "To build the most effective model, we'll use a train-validation-test split instead of just a train-test approach. This method allows us to tune our model's hyperparameters on the validation set while reserving the test set for a final, unbiased evaluation of its performance."
   ]
  },
  {
   "cell_type": "code",
   "execution_count": 20,
   "id": "ad4129f1698052c9",
   "metadata": {
    "ExecuteTime": {
     "end_time": "2025-08-15T16:54:50.671916Z",
     "start_time": "2025-08-15T16:54:50.657708Z"
    },
    "panel-layout": {
     "height": 730,
     "visible": true,
     "width": 100
    }
   },
   "outputs": [
    {
     "name": "stdout",
     "output_type": "stream",
     "text": [
      "X_train shape: (4218, 30)\n",
      "X_val shape: (1407, 30)\n",
      "X_test shape: (1407, 30)\n"
     ]
    }
   ],
   "source": [
    "# Defining the features and the target\n",
    "X = df_ml.drop(['Churn' , 'customerID','tenure_group'], axis = 1)\n",
    "y = df_ml['Churn']\n",
    "\n",
    "# Extracting the test set from the whole set\n",
    "X_train_val , X_test , y_train_val , y_test = train_test_split(X, y, test_size = 0.2, random_state = 42 , stratify = y)\n",
    "\n",
    "# Splitting the train set furthermore into validation and train\n",
    " # 0.25 * 0.8 = 0.2\n",
    "X_train , X_val , y_train , y_val = train_test_split(X_train_val, y_train_val, test_size = 0.25, random_state = 42 , stratify = y_train_val)\n",
    "\n",
    "print(f'X_train shape: {X_train.shape}')\n",
    "print(f'X_val shape: {X_val.shape}')\n",
    "print(f'X_test shape: {X_test.shape}')"
   ]
  },
  {
   "cell_type": "markdown",
   "id": "63209c063a41a0a2",
   "metadata": {
    "panel-layout": {
     "height": 50.82999801635742,
     "visible": true,
     "width": 100
    }
   },
   "source": [
    "## 04-02 Comparing different ML Models"
   ]
  },
  {
   "cell_type": "markdown",
   "id": "ed4f09054f014315",
   "metadata": {
    "panel-layout": {
     "height": 51.13999938964844,
     "visible": true,
     "width": 100
    }
   },
   "source": [
    "In this project, I will compare the performance of three different models to identify the most promising candidate for further optimization."
   ]
  },
  {
   "cell_type": "code",
   "execution_count": 31,
   "id": "2ade56dd0a97e237",
   "metadata": {
    "ExecuteTime": {
     "end_time": "2025-08-15T16:55:09.817721Z",
     "start_time": "2025-08-15T16:55:09.733110Z"
    }
   },
   "outputs": [
    {
     "name": "stdout",
     "output_type": "stream",
     "text": [
      " Logistic Regression F1 score: 0.5590433482810164\n",
      "Logistic Regression Recall score 0.5\n",
      " Random Forest F1 score: 0.5221518987341772\n",
      "Random Forest Recall score 0.4411764705882353\n",
      " XGBoost F1 score: 0.5325264750378215\n",
      "XGBoost Recall score 0.47058823529411764\n",
      "[LightGBM] [Warning] Found whitespace in feature_names, replace with underlines\n",
      "[LightGBM] [Info] Number of positive: 1121, number of negative: 3097\n",
      "[LightGBM] [Info] Auto-choosing row-wise multi-threading, the overhead of testing was 0.000215 seconds.\n",
      "You can set `force_row_wise=true` to remove the overhead.\n",
      "And if memory is not enough, you can set `force_col_wise=true`.\n",
      "[LightGBM] [Info] Total Bins 638\n",
      "[LightGBM] [Info] Number of data points in the train set: 4218, number of used features: 30\n",
      "[LightGBM] [Info] [binary:BoostFromScore]: pavg=0.265766 -> initscore=-1.016213\n",
      "[LightGBM] [Info] Start training from score -1.016213\n",
      " LightGBM F1 score: 0.5589123867069486\n",
      "LightGBM Recall score 0.4946524064171123\n",
      " CatBoost F1 score: 0.5400313971742543\n",
      "CatBoost Recall score 0.45989304812834225\n",
      " SVC F1 score: 0.5229793977812995\n",
      "SVC Recall score 0.4411764705882353\n"
     ]
    }
   ],
   "source": [
    "  # Initiate the Models\n",
    "models = {\n",
    "    \"Logistic Regression\" : LogisticRegression(max_iter=10000, random_state=42),\n",
    "    \"Random Forest\" : RandomForestClassifier(n_estimators=100, random_state=42),\n",
    "    \"XGBoost\" : XGBClassifier(max_depth=10, random_state=42, eval_metric='logloss'),\n",
    "    \"LightGBM\": LGBMClassifier(random_state=42),\n",
    "    \"CatBoost\": CatBoostClassifier(random_state=42, verbose=0), # verbose=0 keeps the output clean\n",
    "    \"SVC\": SVC(random_state=42)\n",
    "}\n",
    "\n",
    "# Loop to train and evaluate each model\n",
    "for name, model in models.items():\n",
    "    # Train the model\n",
    "    model.fit(X_train, y_train)\n",
    "    \n",
    "    # Making prediction on the valuation Set\n",
    "    y_pred_val = model.predict(X_val)\n",
    "    \n",
    "    # Calculating the F1 Score\n",
    "    Score = f1_score(y_val, y_pred_val)\n",
    "    Recall_score = recall_score(y_val , y_pred_val)\n",
    "    print(f\" {name} F1 score: {Score}\")\n",
    "    print(f\"{name} Recall score {Recall_score}\")"
   ]
  },
  {
   "cell_type": "markdown",
   "id": "8f505b68-a31b-49c3-aecc-4ad949afe486",
   "metadata": {},
   "source": [
    "Both Logistic Regression and LightGBM have emerged as the top-performing models. We will now focus on optimizing their hyperparameters to maximize their performance."
   ]
  },
  {
   "cell_type": "markdown",
   "id": "d3acbf42-6ac2-48ee-85ca-ee25a53fb942",
   "metadata": {},
   "source": [
    "## 04-03 Hyperparameter Tuning the Best Model\n",
    "We use Grid Search to find the optimal combination of hyperparameters for our model. This method systematically tests all possible parameter combinations specified in a grid to identify the set that yields the best performance on our dataset."
   ]
  },
  {
   "cell_type": "markdown",
   "id": "91b96fad-07e7-4a45-8849-58f3873fd6af",
   "metadata": {},
   "source": [
    "### 04-03-01 Tuning Logistic Regression\n",
    "For __Logistic Regression__, the most important hyperparameters control the regularization, which is a technique to prevent overfitting by penalizing complex models.\n",
    "\n",
    "__C__: The inverse of regularization strength. Smaller values specify stronger regularization.\n",
    "\n",
    "__penalty__: The type of penalty to use (l1, l2, elasticnet).\n",
    "\n",
    "__solver__: The algorithm to use for optimization. Different solvers support different penalties."
   ]
  },
  {
   "cell_type": "code",
   "execution_count": 32,
   "id": "c866a64a36bbdd40",
   "metadata": {},
   "outputs": [
    {
     "name": "stdout",
     "output_type": "stream",
     "text": [
      "Fitting 5 folds for each of 16 candidates, totalling 80 fits\n",
      "best parameters for Logistic Regression {'C': 10, 'penalty': 'l1', 'solver': 'saga'}\n",
      "Best Recall score for Logistic Regression (Recall) 0.568202380952381\n"
     ]
    }
   ],
   "source": [
    "# Defining the Parameter Grid\n",
    "# We will test different solvers , penalties and regularization strnghts\n",
    "param_grid_ls = {\n",
    "    \"C\" : [0.1 , 1 , 10 , 12],\n",
    "    \"penalty\" : ['l1' , 'l2'],\n",
    "    \"solver\" : ['liblinear' , 'saga']\n",
    "}\n",
    "\n",
    "# Initiating the GridSearch oobject\n",
    "# We use 'recal' as the scoring metric to priorotize finding actual churners\n",
    "grid_search_lr = GridSearchCV(\n",
    "    estimator= LogisticRegression(random_state=42 , max_iter=5000),\n",
    "    param_grid= param_grid_ls,\n",
    "    scoring='recall',\n",
    "    cv = 5,    # 5 fold cross validation\n",
    "    n_jobs=1,  # Use all available CPU cores\n",
    "    verbose=1, # Print progress\n",
    ")\n",
    "\n",
    "# Fit the grid search to the training data \n",
    "grid_search_lr.fit(X_train , y_train)\n",
    "\n",
    "# Printing the best parameter and the best score\n",
    "print(\"best parameters for Logistic Regression\" , grid_search_lr.best_params_)\n",
    "print(\"Best Recall score for Logistic Regression (Recall)\" , grid_search_lr.best_score_)  \n"
   ]
  },
  {
   "cell_type": "markdown",
   "id": "7bdf302e-d261-4ed7-b218-d24aae70ba46",
   "metadata": {},
   "source": [
    "### 04-03-02 Tuning LightGBM (LGBM)\n",
    "LightGBM is a gradient boosting model. Its key hyperparameters control the trade-off between speed and accuracy by managing the complexity of the decision trees being built.\n",
    "\n",
    "__n_estimators__: The number of boosting rounds or trees to build.\n",
    "\n",
    "__learning_rate__: The step size. A smaller learning rate requires more estimators but can lead to better generalization.\n",
    "\n",
    "__num_leaves__: The maximum number of leaves in one tree. This is a key parameter for controlling model complexity.\n",
    "\n",
    "__max_depth__: The maximum depth of a tree.\n",
    "\n"
   ]
  },
  {
   "cell_type": "code",
   "execution_count": 39,
   "id": "caf5212b-faab-4a46-9ae0-630179bea18c",
   "metadata": {},
   "outputs": [
    {
     "name": "stdout",
     "output_type": "stream",
     "text": [
      "Fitting 5 folds for each of 81 candidates, totalling 405 fits\n",
      "best parameters for LightGBM {'learning_rate': 0.1, 'max_depth': -1, 'n_estimators': 100, 'num_leaves': 50}\n",
      "Best Recall score for LightGBM 0.5512896825396825\n"
     ]
    }
   ],
   "source": [
    "# Defining the Parameter Grid\n",
    "# We will test different solvers , penalties and regularization strnghts\n",
    "param_grid_lgbm = {\n",
    "    'n_estimators' : [100, 200, 300],\n",
    "    'learning_rate' : [0.01, 0.1, 0.2],\n",
    "    'num_leaves' : [31, 40, 50],\n",
    "    'max_depth' : [-1, 10, 20]\n",
    "}\n",
    "\n",
    "# Initiating the GridSearch oobject\n",
    "# We use 'recal' as the scoring metric to priorotize finding actual churners\n",
    "grid_search_lgbm = GridSearchCV(\n",
    "    estimator= LGBMClassifier(random_state=42,verbose= -1),\n",
    "    param_grid= param_grid_lgbm,\n",
    "    scoring='recall',\n",
    "    cv = 5,    # 5 fold cross validation\n",
    "    n_jobs=1,  # Use all available CPU cores\n",
    "    verbose = 1\n",
    ")\n",
    "\n",
    "# Fit the grid search to the training data \n",
    "grid_search_lgbm.fit(X_train , y_train)\n",
    "\n",
    "# Printing the best parameter and the best score\n",
    "print(\"best parameters for LightGBM\" , grid_search_lgbm.best_params_)\n",
    "print(\"Best Recall score for LightGBM\" , grid_search_lgbm.best_score_)  "
   ]
  },
  {
   "cell_type": "markdown",
   "id": "19a436e3-8617-48f6-945e-c7242cfbe1e4",
   "metadata": {},
   "source": [
    "# 05-Final Evaluation on the Test Set\n",
    "Based on our analysis, the tuned Logistic Regression model slightly outperforms the LightGBM model. Therefore, we'll proceed by evaluating the final performance of our chosen model on the held-out test set."
   ]
  },
  {
   "cell_type": "code",
   "execution_count": 48,
   "id": "a8e2c2b0-149a-49fe-81ca-444768eb46d7",
   "metadata": {},
   "outputs": [
    {
     "name": "stdout",
     "output_type": "stream",
     "text": [
      "\n",
      "--- Final Model Evaluation on Test Set ---\n",
      "              precision    recall  f1-score   support\n",
      "\n",
      "    No Churn       0.85      0.88      0.87      1033\n",
      "       Churn       0.64      0.57      0.60       374\n",
      "\n",
      "    accuracy                           0.80      1407\n",
      "   macro avg       0.74      0.73      0.74      1407\n",
      "weighted avg       0.79      0.80      0.80      1407\n",
      "\n"
     ]
    },
    {
     "data": {
      "image/png": "[encoded data removed]",
      "text/plain": [
       "<Figure size 640x480 with 2 Axes>"
      ]
     },
     "metadata": {},
     "output_type": "display_data"
    }
   ],
   "source": [
    "# Defining the best Mmodel\n",
    "best_model = LogisticRegression(random_state=42 , C=10 , penalty='l1' , solver='saga', max_iter=5000)\n",
    "best_model.fit(X_train_val,y_train_val)\n",
    "\n",
    "# Making the final prediction on the TEST set\n",
    "y_pred_test = best_model.predict(X_test)\n",
    "\n",
    "# Printing the final Cclassification_report\n",
    "print(\"\\n--- Final Model Evaluation on Test Set ---\")\n",
    "print(classification_report(y_test , y_pred_test , target_names=('No Churn' , 'Churn')))\n",
    "\n",
    "# Ploting the final Cconfusion_matrix\n",
    "cm = confusion_matrix(y_test , y_pred_test)\n",
    "sns.heatmap(cm , annot=True , fmt='d' , cmap='Blues')\n",
    "plt.xlabel('Predicted')\n",
    "plt.ylabel('Actual')\n",
    "plt.title('Final Confusion Matrix on Test Set')\n",
    "plt.show()"
   ]
  },
  {
   "cell_type": "code",
   "execution_count": null,
   "id": "ca353bd2-1cb7-4997-8757-1a7a09a4ddc7",
   "metadata": {},
   "outputs": [],
   "source": []
  }
 ],
 "metadata": {
  "kernelspec": {
   "display_name": "Python 3 (ipykernel)",
   "language": "python",
   "name": "python3"
  },
  "language_info": {
   "codemirror_mode": {
    "name": "ipython",
    "version": 3
   },
   "file_extension": ".py",
   "mimetype": "text/x-python",
   "name": "python",
   "nbconvert_exporter": "python",
   "pygments_lexer": "ipython3",
   "version": "3.12.7"
  },
  "panel-cell-order": [
   "a7031ec2fa3b285b",
   "226a39bf30b76f15",
   "b56e70b92798c61f",
   "7faee54b7a2d2145",
   "550e41c87378f767",
   "7cef28751341383b",
   "94ba6d39794e1d44",
   "611291b6aa8bb8b",
   "6f7f0002daf6f705",
   "20b001f6ea06016d",
   "e17b5101df6fdef7",
   "ff829bf484a70f54",
   "e1bb71f5f2e339b2",
   "f99a7abb6157736a",
   "5125c0db57fcf06d",
   "77f039fb72bb8ba6",
   "971f90f571f36a07",
   "28ef8d98389f7c9d",
   "ed2c41c5338f7ae0",
   "debed3ca4cbade3f",
   "75ce47128cfbde3d",
   "ad4129f1698052c9",
   "63209c063a41a0a2",
   "ed4f09054f014315"
  ]
 },
 "nbformat": 4,
 "nbformat_minor": 5
}
