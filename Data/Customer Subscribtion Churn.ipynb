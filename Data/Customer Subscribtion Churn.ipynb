{
 "cells": [
  {
   "metadata": {},
   "cell_type": "markdown",
   "source": [
    "# Customer Churn Prediction for a Telecom Provider\n",
    "__Core Problem :__\n",
    "\n",
    "Proactively identify customers at high risk of canceling their service, allowing the business to implement targeted retention strategies to reduce revenue loss."
   ],
   "id": "a7031ec2fa3b285b"
  },
  {
   "metadata": {},
   "cell_type": "markdown",
   "source": "## 01-Setup and Initial Exploration",
   "id": "226a39bf30b76f15"
  },
  {
   "metadata": {},
   "cell_type": "code",
   "outputs": [],
   "execution_count": null,
   "source": [
    "# Import necessary Libraries\n",
    "import pandas as pd\n",
    "import numpy as np\n",
    "import seaborn as sns\n",
    "import matplotlib.pyplot as plt\n"
   ],
   "id": "b56e70b92798c61f"
  }
 ],
 "metadata": {
  "kernelspec": {
   "display_name": "Python 3",
   "language": "python",
   "name": "python3"
  },
  "language_info": {
   "codemirror_mode": {
    "name": "ipython",
    "version": 2
   },
   "file_extension": ".py",
   "mimetype": "text/x-python",
   "name": "python",
   "nbconvert_exporter": "python",
   "pygments_lexer": "ipython2",
   "version": "2.7.6"
  }
 },
 "nbformat": 4,
 "nbformat_minor": 5
}
